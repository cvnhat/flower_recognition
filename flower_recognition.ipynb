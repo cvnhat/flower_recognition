{
 "cells": [
  {
   "cell_type": "code",
   "execution_count": 54,
   "metadata": {},
   "outputs": [],
   "source": [
    "import numpy as np\n",
    "import cv2\n",
    "import os\n",
    "from keras.layers import Dense, Dropout, Flatten, Input\n",
    "from keras.layers import Conv2D, MaxPooling2D\n",
    "from keras.layers import BatchNormalization\n",
    "from keras.optimizers import Adam\n",
    "from keras.models import Sequential\n",
    "from keras.models import load_model\n",
    "from keras.applications import VGG19\n",
    "from keras.layers import Dense, Conv2D , MaxPool2D , Flatten , Dropout , MaxPooling2D\n",
    "from keras.utils import to_categorical"
   ]
  },
  {
   "cell_type": "code",
   "execution_count": 55,
   "metadata": {},
   "outputs": [],
   "source": [
    "DATA_DIR = \"C:/Users/LEGION/OneDrive/Desktop/flowers\"\n",
    "LABELS_5 = [\"daisy\", \"dandelion\", \"rose\", \"sunflower\", \"tulip\"]"
   ]
  },
  {
   "cell_type": "code",
   "execution_count": 56,
   "metadata": {},
   "outputs": [],
   "source": [
    "def get_flower_data(dir_path, label_dir):\n",
    "    img_size = 80\n",
    "    flower_data = []\n",
    "    labels=[]\n",
    "    for label in label_dir: \n",
    "        path = os.path.join(dir_path, label)\n",
    "        class_num = label_dir.index(label)\n",
    "        for img in os.listdir(path):\n",
    "                try:\n",
    "                    img_arr = cv2.imread(os.path.join(path, img), cv2.IMREAD_COLOR)\n",
    "                    resized_arr = cv2.resize(img_arr, (img_size, img_size)) # Reshaping images to preferred size\n",
    "                    flower_data.append(resized_arr)\n",
    "                    labels.append(class_num)\n",
    "                except Exception as e:\n",
    "                    print(str(e))\n",
    "    return flower_data, labels"
   ]
  },
  {
   "cell_type": "code",
   "execution_count": 57,
   "metadata": {},
   "outputs": [
    {
     "name": "stdout",
     "output_type": "stream",
     "text": [
      "OpenCV(4.4.0) C:\\Users\\appveyor\\AppData\\Local\\Temp\\1\\pip-req-build-6sxsq0tp\\opencv\\modules\\imgproc\\src\\resize.cpp:3929: error: (-215:Assertion failed) !ssize.empty() in function 'cv::resize'\n",
      "\n",
      "OpenCV(4.4.0) C:\\Users\\appveyor\\AppData\\Local\\Temp\\1\\pip-req-build-6sxsq0tp\\opencv\\modules\\imgproc\\src\\resize.cpp:3929: error: (-215:Assertion failed) !ssize.empty() in function 'cv::resize'\n",
      "\n",
      "OpenCV(4.4.0) C:\\Users\\appveyor\\AppData\\Local\\Temp\\1\\pip-req-build-6sxsq0tp\\opencv\\modules\\imgproc\\src\\resize.cpp:3929: error: (-215:Assertion failed) !ssize.empty() in function 'cv::resize'\n",
      "\n"
     ]
    }
   ],
   "source": [
    "flower_data, labels=get_flower_data(DATA_DIR, LABELS_5)"
   ]
  },
  {
   "cell_type": "code",
   "execution_count": 58,
   "metadata": {},
   "outputs": [],
   "source": [
    "flower_data=np.array(flower_data)/255.0\n",
    "labels = np.array(labels)\n",
    "labels = to_categorical(labels,num_classes = 5)"
   ]
  },
  {
   "cell_type": "code",
   "execution_count": 59,
   "metadata": {},
   "outputs": [],
   "source": [
    "x_train,x_test,y_train,y_test=train_test_split(flower_data,labels,random_state=0)\n",
    "x_train,x_validate,y_train,y_validate=train_test_split(x_train,y_train,random_state=0)"
   ]
  },
  {
   "cell_type": "code",
   "execution_count": 60,
   "metadata": {},
   "outputs": [
    {
     "name": "stdout",
     "output_type": "stream",
     "text": [
      "Model: \"sequential_8\"\n",
      "_________________________________________________________________\n",
      "Layer (type)                 Output Shape              Param #   \n",
      "=================================================================\n",
      "conv2d_29 (Conv2D)           (None, 80, 80, 64)        1792      \n",
      "_________________________________________________________________\n",
      "max_pooling2d_22 (MaxPooling (None, 40, 40, 64)        0         \n",
      "_________________________________________________________________\n",
      "conv2d_30 (Conv2D)           (None, 40, 40, 128)       73856     \n",
      "_________________________________________________________________\n",
      "max_pooling2d_23 (MaxPooling (None, 20, 20, 128)       0         \n",
      "_________________________________________________________________\n",
      "conv2d_31 (Conv2D)           (None, 20, 20, 256)       295168    \n",
      "_________________________________________________________________\n",
      "max_pooling2d_24 (MaxPooling (None, 10, 10, 256)       0         \n",
      "_________________________________________________________________\n",
      "conv2d_32 (Conv2D)           (None, 10, 10, 512)       1180160   \n",
      "_________________________________________________________________\n",
      "max_pooling2d_25 (MaxPooling (None, 5, 5, 512)         0         \n",
      "_________________________________________________________________\n",
      "dropout_23 (Dropout)         (None, 5, 5, 512)         0         \n",
      "_________________________________________________________________\n",
      "conv2d_33 (Conv2D)           (None, 5, 5, 1024)        4719616   \n",
      "_________________________________________________________________\n",
      "max_pooling2d_26 (MaxPooling (None, 2, 2, 1024)        0         \n",
      "_________________________________________________________________\n",
      "flatten_8 (Flatten)          (None, 4096)              0         \n",
      "_________________________________________________________________\n",
      "dense_19 (Dense)             (None, 1024)              4195328   \n",
      "_________________________________________________________________\n",
      "dropout_24 (Dropout)         (None, 1024)              0         \n",
      "_________________________________________________________________\n",
      "dense_20 (Dense)             (None, 5)                 5125      \n",
      "=================================================================\n",
      "Total params: 10,471,045\n",
      "Trainable params: 10,471,045\n",
      "Non-trainable params: 0\n",
      "_________________________________________________________________\n"
     ]
    }
   ],
   "source": [
    "def cnn_model_1(img_size,channels):\n",
    "    \n",
    "    model = Sequential()\n",
    "\n",
    "    # 1st Convolutional Layer\n",
    "    model.add(Conv2D(filters=64, kernel_size=(3,3),padding=\"Same\",activation=\"relu\" , input_shape = (img_size,img_size,channels)))\n",
    "    model.add(MaxPool2D(pool_size=(2,2),strides=(2,2)))\n",
    "\n",
    "    # 2nd Convolutional Layer\n",
    "    model.add(Conv2D(filters=128, kernel_size=(3,3),padding=\"Same\",activation=\"relu\"))\n",
    "    model.add(MaxPool2D(pool_size=(2,2),strides=(2,2)))\n",
    "\n",
    "    # 3rd Convolutional Layer\n",
    "    model.add(Conv2D(filters=256, kernel_size=(3,3),padding=\"Same\",activation=\"relu\"))\n",
    "    model.add(MaxPool2D(pool_size=(2,2),strides=(2,2)))\n",
    "\n",
    "    # 4th Convolutional Layer\n",
    "    model.add(Conv2D(filters=512, kernel_size=(3,3),padding=\"Same\",activation=\"relu\"))\n",
    "    model.add(MaxPool2D(pool_size=(2,2),strides=(2,2)))\n",
    "    model.add(Dropout(0.5))\n",
    "    \n",
    "    # 4th Convolutional Layer\n",
    "    model.add(Conv2D(filters=1024, kernel_size=(3,3),padding=\"Same\",activation=\"relu\"))\n",
    "    model.add(MaxPool2D(pool_size=(2,2),strides=(2,2)))\n",
    "\n",
    "    model.add(Flatten())\n",
    "    # 1st Fully Connected Layer\n",
    "    model.add(Dense(1024,activation=\"relu\"))\n",
    "    model.add(Dropout(0.5))\n",
    "    # Add output layer\n",
    "    model.add(Dense(5,activation=\"softmax\"))\n",
    "    \n",
    "    model.compile(loss='categorical_crossentropy',\n",
    "              optimizer=Adam(learning_rate=0.001),\n",
    "              metrics=['accuracy'])\n",
    "    \n",
    "    return model\n",
    "IMG_SIZE=80\n",
    "CHANNELS=3\n",
    "model=cnn_model_1(img_size=IMG_SIZE,channels=CHANNELS)\n",
    "model.summary()\n",
    "\n",
    "\n",
    "'''\n",
    "pretrained_model = VGG19(input_shape = (IMG_SIZE, IMG_SIZE, CHANNELS), include_top = False, weights = 'imagenet')\n",
    "pretrained_model.summary()\n",
    "\n",
    "for layer in pretrained_model.layers[:19]:\n",
    "    layer.trainable = False\n",
    "\n",
    "model = Sequential(\n",
    "    [\n",
    "        pretrained_model,\n",
    "        Dense(1024,activation='relu'),\n",
    "        Flatten(),\n",
    "        Dense(5, activation = 'softmax')\n",
    "    ]\n",
    ")\n",
    "\n",
    "model.summary()\n",
    "\n",
    "model.compile(optimizer = 'adam', loss = 'categorical_crossentropy', metrics = ['accuracy'])\n",
    "x_train.shape,y_train.shape,x_validate.shape,y_validate.shape,x_test.shape,y_test.shape\n",
    "history = model.fit(datagen.flow(x_train,y_train), epochs = 20, validation_data =(x_validate,y_validate))\n",
    "\n",
    "'''\n"
   ]
  },
  {
   "cell_type": "code",
   "execution_count": 61,
   "metadata": {},
   "outputs": [
    {
     "name": "stdout",
     "output_type": "stream",
     "text": [
      "Train on 2431 samples, validate on 811 samples\n",
      "Epoch 1/20\n",
      "2431/2431 [==============================] - 8s 3ms/step - loss: 1.5614 - accuracy: 0.2830 - val_loss: 1.2832 - val_accuracy: 0.4550\n",
      "Epoch 2/20\n",
      "2431/2431 [==============================] - 6s 2ms/step - loss: 1.3202 - accuracy: 0.4081 - val_loss: 1.1825 - val_accuracy: 0.5006\n",
      "Epoch 3/20\n",
      "2431/2431 [==============================] - 6s 2ms/step - loss: 1.1797 - accuracy: 0.4866 - val_loss: 1.0846 - val_accuracy: 0.5314\n",
      "Epoch 4/20\n",
      "2431/2431 [==============================] - 6s 2ms/step - loss: 1.1134 - accuracy: 0.5352 - val_loss: 1.0759 - val_accuracy: 0.5721\n",
      "Epoch 5/20\n",
      "2431/2431 [==============================] - 6s 2ms/step - loss: 1.0027 - accuracy: 0.5911 - val_loss: 0.9194 - val_accuracy: 0.6387\n",
      "Epoch 6/20\n",
      "2431/2431 [==============================] - 6s 2ms/step - loss: 0.9199 - accuracy: 0.6335 - val_loss: 0.9127 - val_accuracy: 0.6498\n",
      "Epoch 7/20\n",
      "2431/2431 [==============================] - 6s 2ms/step - loss: 0.8810 - accuracy: 0.6594 - val_loss: 0.9379 - val_accuracy: 0.6338\n",
      "Epoch 8/20\n",
      "2431/2431 [==============================] - 6s 2ms/step - loss: 0.8629 - accuracy: 0.6610 - val_loss: 0.8625 - val_accuracy: 0.6671\n",
      "Epoch 9/20\n",
      "2431/2431 [==============================] - 6s 2ms/step - loss: 0.7896 - accuracy: 0.6923 - val_loss: 0.9711 - val_accuracy: 0.6326\n",
      "Epoch 10/20\n",
      "2431/2431 [==============================] - 6s 2ms/step - loss: 0.7198 - accuracy: 0.7260 - val_loss: 0.8066 - val_accuracy: 0.6967\n",
      "Epoch 11/20\n",
      "2431/2431 [==============================] - 6s 2ms/step - loss: 0.6654 - accuracy: 0.7400 - val_loss: 0.8065 - val_accuracy: 0.7164\n",
      "Epoch 12/20\n",
      "2431/2431 [==============================] - 6s 2ms/step - loss: 0.5713 - accuracy: 0.7779 - val_loss: 0.7719 - val_accuracy: 0.7312\n",
      "Epoch 13/20\n",
      "2431/2431 [==============================] - 6s 2ms/step - loss: 0.5441 - accuracy: 0.7960 - val_loss: 0.8656 - val_accuracy: 0.6954\n",
      "Epoch 14/20\n",
      "2431/2431 [==============================] - 6s 2ms/step - loss: 0.5096 - accuracy: 0.8034 - val_loss: 0.7701 - val_accuracy: 0.7213\n",
      "Epoch 15/20\n",
      "2431/2431 [==============================] - 6s 2ms/step - loss: 0.4495 - accuracy: 0.8350 - val_loss: 0.7705 - val_accuracy: 0.7398\n",
      "Epoch 16/20\n",
      "2431/2431 [==============================] - 6s 2ms/step - loss: 0.3785 - accuracy: 0.8552 - val_loss: 0.8872 - val_accuracy: 0.7090\n",
      "Epoch 17/20\n",
      "2431/2431 [==============================] - 6s 2ms/step - loss: 0.3536 - accuracy: 0.8795 - val_loss: 0.9299 - val_accuracy: 0.6917\n",
      "Epoch 18/20\n",
      "2431/2431 [==============================] - 6s 2ms/step - loss: 0.3103 - accuracy: 0.8869 - val_loss: 1.0351 - val_accuracy: 0.6930\n",
      "Epoch 19/20\n",
      "2431/2431 [==============================] - 6s 2ms/step - loss: 0.2633 - accuracy: 0.9066 - val_loss: 0.9308 - val_accuracy: 0.7226\n",
      "Epoch 20/20\n",
      "2431/2431 [==============================] - 6s 2ms/step - loss: 0.2115 - accuracy: 0.9260 - val_loss: 1.0851 - val_accuracy: 0.7423\n"
     ]
    }
   ],
   "source": [
    "history = model.fit(x_train,y_train,epochs=20,validation_data=(x_validate,y_validate))"
   ]
  },
  {
   "cell_type": "code",
   "execution_count": 63,
   "metadata": {},
   "outputs": [],
   "source": [
    "model.save_weights('flower_model.h5')"
   ]
  },
  {
   "cell_type": "code",
   "execution_count": 89,
   "metadata": {},
   "outputs": [
    {
     "data": {
      "text/plain": [
       "<matplotlib.image.AxesImage at 0x2e4b72051c8>"
      ]
     },
     "execution_count": 89,
     "metadata": {},
     "output_type": "execute_result"
    },
    {
     "data": {
      "image/png": "[encoded data removed]",
      "text/plain": [
       "<Figure size 432x288 with 1 Axes>"
      ]
     },
     "metadata": {
      "needs_background": "light"
     },
     "output_type": "display_data"
    }
   ],
   "source": [
    "dict_flower={0:'daisy', 1:'dandelion', 2:'rose', 3:'sunflower', 4:'tulip'}\n",
    "\n",
    "\n",
    "import matplotlib.pyplot as plt\n",
    "#img = plt.imread('rose.jpg')\n",
    "img = plt.imread('boconganh.jpg')\n",
    "img=cv2.resize(img,(80,80))\n",
    "rows,cols,colors = img.shape # gives dimensions for RGB array\n",
    "img_size = rows*cols*colors\n",
    "img_1D_vector = img.reshape(img_size)\n",
    "# you can recover the orginal image with:\n",
    "img2 = img_1D_vector.reshape(rows,cols,colors)\n",
    "img2=img2*(1./255)\n",
    "img2 = np.expand_dims(img2, axis=0)\n",
    "maxindex=np.argmax(model.predict(img2))\n",
    "plt.imshow(img)"
   ]
  },
  {
   "cell_type": "code",
   "execution_count": 90,
   "metadata": {},
   "outputs": [
    {
     "data": {
      "text/plain": [
       "'dandelion'"
      ]
     },
     "execution_count": 90,
     "metadata": {},
     "output_type": "execute_result"
    }
   ],
   "source": [
    "dict_flower[maxindex]"
   ]
  }
 ],
 "metadata": {
  "kernelspec": {
   "display_name": "Python 3",
   "language": "python",
   "name": "python3"
  },
  "language_info": {
   "codemirror_mode": {
    "name": "ipython",
    "version": 3
   },
   "file_extension": ".py",
   "mimetype": "text/x-python",
   "name": "python",
   "nbconvert_exporter": "python",
   "pygments_lexer": "ipython3",
   "version": "3.7.6"
  }
 },
 "nbformat": 4,
 "nbformat_minor": 4
}
